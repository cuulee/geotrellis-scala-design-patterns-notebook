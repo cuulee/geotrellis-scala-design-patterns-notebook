{
 "cells": [
  {
   "cell_type": "markdown",
   "metadata": {},
   "source": [
    "# GeoTrellis Scala Design Patterns\n",
    "\n",
    "This juptyer notebook is used to explain through some design patterns or concepts that GeoTrellis uses.\n",
    "\n",
    "It's broken up into the following subtopics:\n",
    "- Performance\n",
    "- Organization\n",
    "- Type Constraints"
   ]
  },
  {
   "cell_type": "markdown",
   "metadata": {},
   "source": [
    "# Performance"
   ]
  },
  {
   "cell_type": "code",
   "execution_count": 3,
   "metadata": {
    "collapsed": true
   },
   "outputs": [],
   "source": [
    "/** This method will be used in the performance section\n",
    "  * to produce timing results.\n",
    "  */\n",
    "def time(msg: String)(f: => Unit): Unit = {\n",
    "    val s = System.currentTimeMillis\n",
    "    f\n",
    "    println(s\"[$msg] Took: ${System.currentTimeMillis - s} ms\")\n",
    "}"
   ]
  },
  {
   "cell_type": "markdown",
   "metadata": {},
   "source": [
    "### Macros\n",
    "\n",
    "Motivating example:"
   ]
  },
  {
   "cell_type": "code",
   "execution_count": 6,
   "metadata": {
    "collapsed": false
   },
   "outputs": [
    {
     "name": "stdout",
     "output_type": "stream",
     "text": [
      "[Using foreach over a range] Took: 2873 ms\n",
      "[using a while loop] Took: 326 ms\n",
      "[spire's cfor macro] Took: 321 ms\n"
     ]
    }
   ],
   "source": [
    "val len = 1000000000\n",
    "time(\"Using foreach over a range\") {\n",
    "    var x = 0\n",
    "    for(i <- 0 until len) {\n",
    "        x += i\n",
    "    }\n",
    "}\n",
    "\n",
    "time(\"using a while loop\") {\n",
    "    var x = 0\n",
    "    var i = 0\n",
    "    while(i < len) {\n",
    "        x += i\n",
    "        i += 1\n",
    "    }\n",
    "}\n",
    "\n",
    "import spire.syntax.cfor._\n",
    "\n",
    "time(\"spire's cfor macro\") {\n",
    "    var x = 0\n",
    "    cfor(0)(_ < len, _ + 1) { i =>\n",
    "        x += i\n",
    "    }\n",
    "}"
   ]
  },
  {
   "cell_type": "markdown",
   "metadata": {},
   "source": [
    "Notice the `cfor` performs as well as the `while` loop. This is a macro that is supplid by the [Spire](https://github.com/non/spire/) library.\n",
    "\n",
    "`Macros`, specifically `Def Macros`, allow you to rewrite the abstract syntax tree of the code at the callsite of a `def`. For a more complete definition, [see the docs](http://docs.scala-lang.org/overviews/macros/overview.html).\n",
    "\n",
    "`cfor` let's us iterate over our core raster type (called `Tile`) very quickly, and we use it _everywhere_. A lot of the performance critical codepaths and batch jobs that GeoTrellis is used for spend a majority of CPU time iterating over rasters cells. We always either use the `while` loop or use a `cfor` for this type of iteration, e.g.:\n",
    "\n",
    "```scala\n",
    "cfor(0)(_ < rows, _ + 1) { row =>\n",
    "  cfor(0)(_ < cols, _ + 1) { col =>\n",
    "    var count = 0\n",
    "    var sum = 0.0\n",
    "    cfor(0)(_ < layerCount, _ + 1) { i =>\n",
    "      val v = rs(i).getDouble(col, row)\n",
    "      if(isData(v)) {\n",
    "        count += 1\n",
    "        sum += v\n",
    "      }\n",
    "    }\n",
    "\n",
    "    if(count > 0) {\n",
    "      tile.setDouble(col, row, sum/count)\n",
    "    } else {\n",
    "      tile.setDouble(col, row, Double.NaN)\n",
    "    }\n",
    "  }\n",
    "}\n",
    "```\n",
    "[Source](https://github.com/locationtech/geotrellis/blob/a00c35b928e96083188d91734252d66574e3b4a7/raster/src/main/scala/geotrellis/raster/mapalgebra/local/Mean.scala#L44-L62)\n",
    "\n",
    "As we can see, this is ugly mutable optimized code. We wrap this functionality is exposed via an immutable API:"
   ]
  },
  {
   "cell_type": "code",
   "execution_count": null,
   "metadata": {
    "collapsed": false
   },
   "outputs": [],
   "source": [
    "def tileMeanScope = {\n",
    "    import geotrellis.raster._\n",
    "    \n",
    "    val tiles: Seq[Tile] = ???\n",
    "    val result: Tile = tiles.localMean\n",
    "}\n",
    "\n",
    "Unit"
   ]
  },
  {
   "cell_type": "markdown",
   "metadata": {},
   "source": [
    "This is an example of a driving design principle used in GeoTrellis:\n",
    "\n",
    "![geotrellis-values](http://i.imgur.com/HbF9yV3.jpg?1)\n"
   ]
  },
  {
   "cell_type": "markdown",
   "metadata": {},
   "source": [
    "#### Using macros to inline overloading for performance critical comparisions\n",
    "\n",
    "Raster data can contain the concept of NoData, which is a designated value to mean the lack of data.\n",
    "If a cell has that value, many algorithms will ignore that cell as not pertinent data.\n",
    "While we are iterating over tiles, many times we are checking if a given value is NoData or not.\n",
    "By default, GeoTrellis considers `Int.MinValue` as NoData for integer cell types, and `Double.NaN` as\n",
    "NoData for double cell types.\n",
    "\n",
    "```scala\n",
    "val i: Int = ???\n",
    "val d: Double = ???\n",
    "\n",
    "if(i == NODATA) { /* This is NoData. NODATA is a val equal to Int.MinValue */ }\n",
    "if(java.lang.Double.isNaN(d)) { /* This is NoData */ }\n",
    "```\n",
    "\n",
    "\n",
    "A common cause of bugs in earlier version of GeoTrellis were caused by developers checked a double value against `Int.MinValue` (or the `NODATA` constant we provide), an integer value with `java.lang.double.isNaN`:\n",
    "\n",
    "```scala\n",
    "val x: Double = ???\n",
    "val y: Int = ???\n",
    "\n",
    "if(x == NODATA) { /* WRONG! */ }\n",
    "if(java.lang.Double.isNaN(y)) { /* WRONG! */ }\n",
    "```\n",
    "\n",
    "A bug would also occur if we checked a double value by checking\n",
    "```scala\n",
    "val d: Double = Double.NaN\n",
    "if(d == Double.NaN) { /* Nope, never gonna happen */ }\n",
    "```\n",
    "\n",
    "since that equality check will always evaluate to `false`, even if `d` is `Double.NaN`.\n",
    "\n",
    "One solution to this problem is to use simple overloading. But check out the difference in timings for doing the check against a constant or calling the `NaN` check directly:"
   ]
  },
  {
   "cell_type": "code",
   "execution_count": 10,
   "metadata": {
    "collapsed": false
   },
   "outputs": [
    {
     "name": "stdout",
     "output_type": "stream",
     "text": [
      "[Ints: constant check] Took: 33 ms\n",
      "[Ints: overloaded method] Took: 67 ms\n",
      "[Doubles: java.lang.Double.isNaN] Took: 35 ms\n",
      "[Doubles: overloaded method] Took: 74 ms\n"
     ]
    }
   ],
   "source": [
    "object NoData {\n",
    "    def isNoData(v: Int): Boolean = v == Int.MinValue\n",
    "    def isNoData(v: Double): Boolean = java.lang.Double.isNaN(v)\n",
    "}\n",
    "\n",
    "time(\"Ints: constant check\") { \n",
    "    var i = 0\n",
    "    while(i < 10000000) {\n",
    "        if(i != Int.MinValue) { i += 1 }\n",
    "    }\n",
    "}\n",
    "\n",
    "time(\"Ints: overloaded method\") { \n",
    "    var i = 0\n",
    "    while(i < 10000000) {\n",
    "        if(!NoData.isNoData(i)) { i += 1 }\n",
    "    }\n",
    "}\n",
    "\n",
    "time(\"Doubles: java.lang.Double.isNaN\") {\n",
    "   var i = 0.0\n",
    "    while(i < 10000000.0) {\n",
    "        if(!java.lang.Double.isNaN(i)) { i += 1.0 }\n",
    "    }\n",
    "}\n",
    "\n",
    "time(\"Doubles: overloaded method\") {\n",
    "   var i = 0.0\n",
    "    while(i < 10000000.0) {\n",
    "        if(!NoData.isNoData(i)) { i += 1.0 }\n",
    "    }\n",
    "}"
   ]
  },
  {
   "cell_type": "markdown",
   "metadata": {},
   "source": [
    "This is because the check against a constant, or direct call to the method, performs many less lines of bytecode\n",
    "to execute on the JVM than creating an overloaded method that requires a VTable lookup.\n",
    "To get around this, we've created a macro that inlines the check:"
   ]
  },
  {
   "cell_type": "code",
   "execution_count": 11,
   "metadata": {
    "collapsed": false
   },
   "outputs": [
    {
     "name": "stdout",
     "output_type": "stream",
     "text": [
      "[Ints: constant check] Took: 3 ms\n",
      "[Ints: isNoData macro] Took: 3 ms\n",
      "[Doubles: java.lang.Double.isNaN] Took: 35 ms\n",
      "[Doubles: isNoData macro] Took: 34 ms\n"
     ]
    }
   ],
   "source": [
    "import geotrellis.raster._\n",
    "\n",
    "time(\"Ints: constant check\") { \n",
    "    var i = 0\n",
    "    while(i < 10000000) {\n",
    "        if(i != Int.MinValue) { i += 1 }\n",
    "    }\n",
    "}\n",
    "\n",
    "time(\"Ints: isNoData macro\") { \n",
    "    var i = 0\n",
    "    while(i < 10000000) {\n",
    "        if(!isNoData(i)) { i += 1 }\n",
    "    }\n",
    "}\n",
    "\n",
    "time(\"Doubles: java.lang.Double.isNaN\") {\n",
    "   var i = 0.0\n",
    "    while(i < 10000000.0) {\n",
    "        if(!java.lang.Double.isNaN(i)) { i += 1.0 }\n",
    "    }\n",
    "}\n",
    "\n",
    "time(\"Doubles: isNoData macro\") {\n",
    "   var i = 0.0\n",
    "    while(i < 10000000.0) {\n",
    "        if(!isNoData(i)) { i += 1.0 }\n",
    "    }\n",
    "}"
   ]
  },
  {
   "cell_type": "markdown",
   "metadata": {},
   "source": [
    "This macro quite simply inlines the check into the call site. If you want to learn more about how macros work, it's a good one to check out since it really does a dead simple thing, but for a very useful purpose.\n",
    "\n",
    "In [macros/src/main/scala/geotrellis/macros/NoDataMacros.scala](https://github.com/locationtech/geotrellis/blob/a00c35b928e96083188d91734252d66574e3b4a7/macros/src/main/scala/geotrellis/macros/NoDataMacros.scala#L16-L19)\n",
    "```scala\n",
    "object NoDataMacros {\n",
    "  // ...\n",
    "\n",
    "  def isNoDataInt_impl(ct: Context)(i: ct.Expr[Int]): ct.Expr[Boolean] = {\n",
    "    import ct.universe._\n",
    "    ct.Expr(q\"\"\"$i == Int.MinValue\"\"\")\n",
    "  }\n",
    "\n",
    "  // ...\n",
    "}\n",
    "```\n",
    "\n",
    "In [raster/src/main/scala/geotrellis/raster/package.scala](https://github.com/locationtech/geotrellis/blob/a00c35b928e96083188d91734252d66574e3b4a7/raster/src/main/scala/geotrellis/raster/package.scala#L162)\n",
    "```scala\n",
    "package object raster {\n",
    "  // ...\n",
    "  \n",
    "  def isNoData(i: Int): Boolean = macro NoDataMacros.isNoDataInt_impl\n",
    "\n",
    "  // ...\n",
    "}\n",
    "```\n"
   ]
  },
  {
   "cell_type": "markdown",
   "metadata": {},
   "source": [
    "#### Using macros to get around FunctionN not being specialized where N > 2\n",
    "\n",
    "Functions like `{ x: Int => x + 1 }` are _specialized_, in that they don't box over certain primatives. Boxing is the act of the JVM requiring type erasures on generics being fulfilled by primatives: if you call some `def foo[T](x: T)` with a `Double`, that primitive `Double` will be \"boxed\" into an Object before being passed in, and \"unboxed\" internally to the function. This is causes dramatic slowdowns when working with primitive types. You can read more about boxing [here](https://en.wikipedia.org/wiki/Object_type_%28object-oriented_programming%29#Boxing).\n",
    "\n",
    "Functions like `{ (x: Int, y: Int, z: Int) => x + y + z }` are not specialized. So we see a dramatic slowdown.\n",
    "\n",
    "For example, if we define a function `map` that maps the values of each raster cell into another raster (`Tile` type):\n"
   ]
  },
  {
   "cell_type": "code",
   "execution_count": 13,
   "metadata": {
    "collapsed": false
   },
   "outputs": [],
   "source": [
    "def map(tile: Tile)(f: Int => Int): Tile = {\n",
    "    val result: MutableArrayTile = ArrayTile.alloc(IntCellType, 1500, 1600)\n",
    "    cfor(0)(_ < tile.rows, _  + 1) { row =>\n",
    "        cfor(0)(_ < tile.cols, _ + 1) { col =>\n",
    "            result.set(col, row, f(tile.get(col, row)))\n",
    "        }\n",
    "    }\n",
    "    result\n",
    "}"
   ]
  },
  {
   "cell_type": "markdown",
   "metadata": {},
   "source": [
    "and compare that to the definition that maps an `(Int, Int, Int) => Int` over the cell values that also takes into consideration the colum and row of the cell:"
   ]
  },
  {
   "cell_type": "code",
   "execution_count": 14,
   "metadata": {
    "collapsed": true
   },
   "outputs": [],
   "source": [
    "def map2(tile: Tile)(f: (Int, Int, Int) => Int): Tile = {\n",
    "    val result: MutableArrayTile = ArrayTile.alloc(IntCellType, 1500, 1600)\n",
    "    cfor(0)(_ < tile.rows, _  + 1) { row =>\n",
    "        cfor(0)(_ < tile.cols, _ + 1) { col =>\n",
    "            result.set(col, row, f(col, row, tile.get(col, row)))\n",
    "        }\n",
    "    }\n",
    "    result\n",
    "}"
   ]
  },
  {
   "cell_type": "markdown",
   "metadata": {},
   "source": [
    "we can see that the `Function1` executes much faster than the `Function3`."
   ]
  },
  {
   "cell_type": "code",
   "execution_count": 22,
   "metadata": {
    "collapsed": false
   },
   "outputs": [
    {
     "name": "stdout",
     "output_type": "stream",
     "text": [
      "[Function1] Took: 16 ms\n",
      "[Function3] Took: 55 ms\n"
     ]
    }
   ],
   "source": [
    "val tile = ArrayTile(Array.ofDim[Int](1500 * 1600).fill(scala.util.Random.nextInt), 1500, 1600)\n",
    "\n",
    "time(\"Function1\") { \n",
    "    map(tile) { z => z + 1 }\n",
    "}\n",
    "\n",
    "time(\"Function3\") { \n",
    "    map2(tile) { (col, row, z) => col * row * z + 1 }\n",
    "}"
   ]
  },
  {
   "cell_type": "markdown",
   "metadata": {},
   "source": [
    "This is because the `Function3` is not specialized, so is boxing. We can see in the definitions for those traits that this is in fact the case:\n",
    "- https://github.com/scala/scala/blob/v2.12.0/src/library/scala/Function1.scala#L32\n",
    "- https://github.com/scala/scala/blob/v2.12.0/src/library/scala/Function3.scala#L16\n",
    "\n",
    "One way aroudn this is to define a trait with concrete primative parameters. Notice the performance of this version:"
   ]
  },
  {
   "cell_type": "code",
   "execution_count": 23,
   "metadata": {
    "collapsed": true
   },
   "outputs": [],
   "source": [
    "trait Mapper { def apply(col: Int, row: Int, z: Int): Int }\n",
    "def map3(tile: Tile)(f: Mapper): Tile = {\n",
    "    val result: MutableArrayTile = ArrayTile.alloc(IntCellType, 1500, 1600)\n",
    "    cfor(0)(_ < tile.rows, _  + 1) { row =>\n",
    "        cfor(0)(_ < tile.cols, _ + 1) { col =>\n",
    "            result.set(col, row, f(col, row, tile.get(col, row)))\n",
    "        }\n",
    "    }\n",
    "    result\n",
    "}"
   ]
  },
  {
   "cell_type": "code",
   "execution_count": 26,
   "metadata": {
    "collapsed": false
   },
   "outputs": [
    {
     "name": "stdout",
     "output_type": "stream",
     "text": [
      "[Function1] Took: 23 ms\n",
      "[Function3] Took: 101 ms\n",
      "[Mapper Trait] Took: 21 ms\n"
     ]
    }
   ],
   "source": [
    "time(\"Function1\") { \n",
    "    map(tile) { z => z + 1 }\n",
    "}\n",
    "\n",
    "time(\"Function3\") { \n",
    "    map2(tile) { (col, row, z) => col * row * z + 1 }\n",
    "}\n",
    "\n",
    "time(\"Mapper Trait\") { \n",
    "    map3(tile)(new Mapper { def apply(col: Int, row: Int, z: Int): Int = col * row * z + 1 })\n",
    "}"
   ]
  },
  {
   "cell_type": "markdown",
   "metadata": {},
   "source": [
    "The Mapper trait performs similarly to the `Function1` case, because it avoid boxing primatives. However, the client call to that method not pretty.\n",
    "\n",
    "GeoTrellis deals with this exact case in a way that solves both the performance and API problems. Using macros, GeoTrellis enables client code to avoid the performance hit of boxing, and have the function calls be inutitive. The `map` functions we built up above exist as methods on the `Tile` type:"
   ]
  },
  {
   "cell_type": "code",
   "execution_count": 29,
   "metadata": {
    "collapsed": false
   },
   "outputs": [
    {
     "name": "stdout",
     "output_type": "stream",
     "text": [
      "[Tile map with Function1] Took: 21 ms\n",
      "[Tile map with Function3] Took: 21 ms\n"
     ]
    }
   ],
   "source": [
    "time(\"Tile map with Function1\") {\n",
    "    tile.map { z => z + 1 }\n",
    "}\n",
    "\n",
    "time(\"Tile map with Function3\") {\n",
    "    tile.map { (col, row, z) => col * row * z + 1 }\n",
    "}"
   ]
  },
  {
   "cell_type": "markdown",
   "metadata": {
    "collapsed": false
   },
   "source": [
    "To see how we pull this off, let's look at the code.\n",
    "\n",
    "In [macros/src/main/scala/geotrellis/macros/TileMacros.scala](https://github.com/locationtech/geotrellis/blob/v1.0.0/macros/src/main/scala/geotrellis/macros/TileMacros.scala#L12-L19), we define a trait that declares necessary methods:\n",
    "```scala\n",
    "trait MacroMappableTile[T] {\n",
    "  def mapIntMapper(mapper: IntTileMapper): T\n",
    "  def mapDoubleMapper(mapper: DoubleTileMapper): T\n",
    "}\n",
    "```\n",
    "\n",
    "and also define a trait that is similar to the `Mapper` trait above:\n",
    "\n",
    "```scala\n",
    "trait IntTileMapper {\n",
    "  def apply(col: Int, row: Int, z: Int): Int\n",
    "}\n",
    "```\n",
    "\n",
    "We then define a macro which inlines the Function3 into an implementation of the apply method of an anonymous instance of `IntTileMapper` ([source](https://github.com/locationtech/geotrellis/blob/v1.0.0/macros/src/main/scala/geotrellis/macros/TileMacros.scala#L34-L39)):\n",
    "\n",
    "```scala\n",
    "object TileMacros {\n",
    "  def intMap_impl[T <: MacroMappableTile[T]](c: Context)(f: c.Expr[(Int, Int, Int) => Int]): c.Expr[T] = {\n",
    "    import c.universe._\n",
    "    val self = c.Expr[MacroMappableTile[T]](c.prefix.tree)\n",
    "    val tree = q\"\"\"$self.mapIntMapper(new geotrellis.macros.IntTileMapper { def apply(col: Int, row: Int, z: Int): Int = $f(col, row, z) })\"\"\"\n",
    "    new InlineUtil[c.type](c).inlineAndReset[T](tree)\n",
    "  }\n",
    "  \n",
    "  // ...\n",
    "}\n",
    "```\n",
    "\n",
    "This uses some utility functionality from the `spire` project that they lean on to create similar inlining macros.\n",
    "\n",
    "The macro definition that uses this macro implementation can be found in [raster/src/main/scala/geotrellis/raster/MappableTile.scala](https://github.com/locationtech/geotrellis/blob/v1.0.0/raster/src/main/scala/geotrellis/raster/MappableTile.scala)\n",
    "\n",
    "```scala\n",
    "\n",
    "trait MappableTile[T <: MappableTile[T]] extends MacroMappableTile[T] {\n",
    "\n",
    "  /**\n",
    "    * Map over the tiles using a function which accepts the column,\n",
    "    * row, and value at that position and returns an integer.\n",
    "    */\n",
    "  def map(f: (Int, Int, Int) => Int): T =\n",
    "    macro TileMacros.intMap_impl[T]\n",
    "\n",
    "  // ... \n",
    "}\n",
    "```\n",
    "\n",
    "which is a trait implemented by our `Tile` type. Because the tile type implements MacroMappableTile, it must provide an implementation of the trait-based map call, found in subtype implementation so `Tile` such as in [raster/src/main/scala/geotrellis/raster/ArrayTile.scala](https://github.com/locationtech/geotrellis/blob/v1.0.0/raster/src/main/scala/geotrellis/raster/ArrayTile.scala#L165-L173)\n",
    "\n",
    "```scala\n",
    "trait ArrayTile extends Tile with Serializable {\n",
    "  // ...\n",
    "  \n",
    "  def mapIntMapper(mapper: IntTileMapper): Tile = {\n",
    "    val tile = ArrayTile.alloc(cellType, cols, rows)\n",
    "    cfor(0)(_ < rows, _ + 1) { row =>\n",
    "      cfor(0)(_ < cols, _ + 1) { col =>\n",
    "        tile.set(col, row, mapper(col, row, get(col, row)))\n",
    "      }\n",
    "    }\n",
    "    tile\n",
    "  }\n",
    "  \n",
    "  // ...\n",
    "}\n",
    "```\n"
   ]
  },
  {
   "cell_type": "markdown",
   "metadata": {},
   "source": [
    "# Organization"
   ]
  },
  {
   "cell_type": "markdown",
   "metadata": {},
   "source": [
    "### The Probem\n",
    "\n",
    "You have core types, and a whole slew of functionality defined in which the core types are the subject. \n",
    "In GeoTrellis's instance, we have a `Tile` type, and we can perform a wide array of operations _on_ a tile.\n",
    "There's map algebra operations, statistics, polygonal summary methods, etc. \n",
    "\n",
    "### Some solutions\n",
    "\n",
    "#### Just throw 'em in\n",
    "\n",
    "We could dump all of this functionality into the core types, as methods of those types. \n",
    "But that would lead to awfully bloated classes and code that was hard to navigate.\n",
    "\n",
    "#### Organize by object\n",
    "\n",
    "You could define you functionality as methods on objects, that take the core type as the first parameter.\n",
    "For instance, you can define some local operations on Tiles as:\n",
    "\n"
   ]
  },
  {
   "cell_type": "code",
   "execution_count": 30,
   "metadata": {
    "collapsed": false
   },
   "outputs": [
    {
     "data": {
      "text/plain": [
       "object scala.Unit"
      ]
     },
     "execution_count": 30,
     "metadata": {},
     "output_type": "execute_result"
    }
   ],
   "source": [
    "import geotrellis.raster.Tile \n",
    "\n",
    "object LocalOperations {\n",
    "    def add(tile1: Tile, tile2: Tile): Tile = ???\n",
    "    def add(tile: Tile, c: Int): Tile = ???\n",
    "    def subtract(tile1: Tile, tile2: Tile): Tile = ???\n",
    "    def subtract(tile: Tile, c: Int): Tile = ???\n",
    "    def multiply(tile1: Tile, tile2: Tile): Tile = ???\n",
    "    def multiply(tile: Tile, c: Int): Tile = ???\n",
    "    def divide(tile1: Tile, tile2: Tile): Tile = ???\n",
    "    def divide(tile: Tile, c: Int): Tile = ???\n",
    "}\n",
    "\n",
    "def foo: Tile = {\n",
    "    val tile1: Tile = ???\n",
    "    val tile2: Tile = ???\n",
    "\n",
    "    import LocalOperations._\n",
    "\n",
    "    divide(subtract(tile1, tile2), add(tile1, tile2))\n",
    "}\n",
    "\n",
    "Unit"
   ]
  },
  {
   "cell_type": "markdown",
   "metadata": {},
   "source": [
    "That's not very pretty. What we really want to do is to allow the addition of \n",
    "operators on our core types, but not really add them. Implicit classes to the rescue."
   ]
  },
  {
   "cell_type": "code",
   "execution_count": 31,
   "metadata": {
    "collapsed": false
   },
   "outputs": [
    {
     "data": {
      "text/plain": [
       "object scala.Unit"
      ]
     },
     "execution_count": 31,
     "metadata": {},
     "output_type": "execute_result"
    }
   ],
   "source": [
    "trait Tile2 extends geotrellis.raster.Tile\n",
    "\n",
    "object LocalOperations {\n",
    "    def add(tile1: Tile2, tile2: Tile2): Tile2 = ???\n",
    "    def add(tile: Tile2, c: Int): Tile2 = ???\n",
    "    def subtract(tile1: Tile2, tile2: Tile2): Tile2 = ???\n",
    "    def subtract(tile: Tile2, c: Int): Tile2 = ???\n",
    "    def multiply(tile1: Tile2, tile2: Tile2): Tile2 = ???\n",
    "    def multiply(tile: Tile2, c: Int): Tile2 = ???\n",
    "    def divide(tile1: Tile2, tile2: Tile2): Tile2 = ???\n",
    "    def divide(tile: Tile2, c: Int): Tile2 = ???\n",
    "}\n",
    "\n",
    "\n",
    "implicit class withLocalOperationMethods(val self: Tile2) {\n",
    "    import LocalOperations._\n",
    "    \n",
    "    def +(other: Tile2): Tile2 = add(self, other)\n",
    "    def +(c: Int): Tile2 = add(self, c)\n",
    "    def -(other: Tile2): Tile2 = subtract(self, other)\n",
    "    def -(c: Int): Tile2 = subtract(self, c)\n",
    "    def *(other: Tile2): Tile2 = multiply(self, other)\n",
    "    def *(c: Int): Tile2 = multiply(self, c)\n",
    "    def /(other: Tile2): Tile2 = divide(self, other)\n",
    "    def /(c: Int): Tile2 = divide(self, c)\n",
    "}\n",
    "\n",
    "def foo: Tile2 = {\n",
    "    val tile1: Tile2 = ???\n",
    "    val tile2: Tile2 = ???\n",
    "\n",
    "   (tile1 - tile2) /  (tile1 + tile2)\n",
    "}\n",
    "\n",
    "Unit"
   ]
  },
  {
   "cell_type": "markdown",
   "metadata": {},
   "source": [
    "If there are many more local operations (and in reality, there are), \n",
    "we might want to organize things even further, so that `LocalOperations` extends traits that\n",
    "hold common functionality."
   ]
  },
  {
   "cell_type": "code",
   "execution_count": 40,
   "metadata": {
    "collapsed": false
   },
   "outputs": [
    {
     "data": {
      "text/plain": [
       "object scala.Unit"
      ]
     },
     "execution_count": 40,
     "metadata": {},
     "output_type": "execute_result"
    }
   ],
   "source": [
    "trait Tile2 extends geotrellis.raster.Tile\n",
    "\n",
    "object LocalAdd {\n",
    "    def apply(tile1: Tile2, tile2: Tile2): Tile2 = ???\n",
    "    def apply(tile: Tile2, c: Int): Tile2 = ???\n",
    "}\n",
    "\n",
    "trait LocalAddMethods {\n",
    "    def self: Tile2\n",
    "    \n",
    "    def +(other: Tile2): Tile2 = LocalAdd(self, other)\n",
    "    def +(c: Int): Tile2 = LocalAdd(self, c)\n",
    "}\n",
    "\n",
    "object LocalSubtract {\n",
    "    def apply(tile1: Tile2, tile2: Tile2): Tile2 = ???\n",
    "    def apply(tile: Tile2, c: Int): Tile2 = ???\n",
    "}\n",
    "\n",
    "trait LocalSubtractMethods {\n",
    "    def self: Tile2\n",
    "    \n",
    "    def -(other: Tile2): Tile2 = LocalSubtract(self, other)\n",
    "    def -(c: Int): Tile2 = LocalSubtract(self, c)   \n",
    "}\n",
    "\n",
    "object LocalMultiply {\n",
    "    def apply(tile1: Tile2, tile2: Tile2): Tile2 = ???\n",
    "    def apply(tile: Tile2, c: Int): Tile2 = ???\n",
    "}\n",
    "\n",
    "trait LocalMultiplyMethods {\n",
    "    def self: Tile2\n",
    "\n",
    "    def *(other: Tile2): Tile2 = LocalMultiply(self, other)\n",
    "    def *(c: Int): Tile2 = LocalMultiply(self, c)\n",
    "}\n",
    "\n",
    "object LocalDivide {\n",
    "    def apply(tile1: Tile2, tile2: Tile2): Tile2 = ???\n",
    "    def apply(tile: Tile2, c: Int): Tile2 = ???\n",
    "}\n",
    "\n",
    "trait LocalDivideMethods {\n",
    "    def self: Tile2\n",
    "\n",
    "    def /(other: Tile2): Tile2 = LocalDivide(self, other)\n",
    "    def /(c: Int): Tile2 = LocalDivide(self, c)\n",
    "}\n",
    "\n",
    "object LocalOperations {\n",
    "    implicit class withLocalOperationMethods(val self: Tile2)\n",
    "        extends LocalAddMethods\n",
    "        with LocalSubtractMethods\n",
    "        with LocalMultiplyMethods\n",
    "        with LocalDivideMethods\n",
    "}\n",
    "\n",
    "def foo: Tile2 = {\n",
    "    import LocalOperations._\n",
    "\n",
    "    val tile1: Tile2 = ???\n",
    "    val tile2: Tile2 = ???\n",
    "\n",
    "   (tile1 - tile2) /  (tile1 + tile2)\n",
    "}\n",
    "\n",
    "Unit"
   ]
  },
  {
   "cell_type": "markdown",
   "metadata": {},
   "source": [
    "The ability to stack the traits like that onto `withLocalOperationMethods` is dependent on all of the traits naming the target type `self`. It would be nice to codify that, and that's what we've done with `MethodExtensions`:\n",
    "\n",
    "```scala\n",
    "/**\n",
    "  * The base-trait from which all implicit classes containing\n",
    "  * extension methods are derived.\n",
    "  */\n",
    "trait MethodExtensions[+T] extends Serializable {\n",
    "  def self: T\n",
    "}\n",
    "```\n",
    "[Source](https://github.com/locationtech/geotrellis/blob/v1.0.0/util/src/main/scala/geotrellis/util/MethodExtensions.scala)\n",
    "\n",
    "so our code can now implement that trait to codify the pattern:"
   ]
  },
  {
   "cell_type": "code",
   "execution_count": null,
   "metadata": {
    "collapsed": false
   },
   "outputs": [],
   "source": [
    "import geotrellis.util.MethodExtensions\n",
    "\n",
    "object LocalOperations {\n",
    "    object LocalAdd {\n",
    "        def apply(tile1: Tile2, tile2: Tile2): Tile2 = ???\n",
    "        def apply(tile: Tile2, c: Int): Tile2 = ???\n",
    "    }\n",
    "\n",
    "    trait LocalAddMethods extends MethodExtensions[Tile2] {\n",
    "        def +(other: Tile2): Tile2 = LocalAdd(self, other)\n",
    "        def +(c: Int): Tile2 = LocalAdd(self, c)\n",
    "    }\n",
    "\n",
    "    object LocalSubtract {\n",
    "        def apply(tile1: Tile2, tile2: Tile2): Tile2 = ???\n",
    "        def apply(tile: Tile2, c: Int): Tile2 = ???\n",
    "    }\n",
    "\n",
    "    trait LocalSubtractMethods extends MethodExtensions[Tile2] {   \n",
    "        def -(other: Tile2): Tile2 = LocalSubtract(self, other)\n",
    "        def -(c: Int): Tile2 = LocalSubtract(self, c)   \n",
    "    }\n",
    "\n",
    "    object LocalMultiply {\n",
    "        def apply(tile1: Tile2, tile2: Tile2): Tile2 = ???\n",
    "        def apply(tile: Tile2, c: Int): Tile2 = ???\n",
    "    }\n",
    "\n",
    "    trait LocalMultiplyMethods extends MethodExtensions[Tile2] {\n",
    "        def *(other: Tile2): Tile2 = LocalMultiply(self, other)\n",
    "        def *(c: Int): Tile2 = LocalMultiply(self, c)\n",
    "    }\n",
    "\n",
    "    object LocalDivide {\n",
    "        def apply(tile1: Tile2, tile2: Tile2): Tile2 = ???\n",
    "        def apply(tile: Tile2, c: Int): Tile2 = ???\n",
    "    }\n",
    "\n",
    "    trait LocalDivideMethods extends MethodExtensions[Tile2] {\n",
    "        def /(other: Tile2): Tile2 = LocalDivide(self, other)\n",
    "        def /(c: Int): Tile2 = LocalDivide(self, c)\n",
    "    }\n",
    "\n",
    "    implicit class withLocalOperationMethods(val self: Tile2) extends MethodExtensions[Tile2]\n",
    "        with LocalAddMethods\n",
    "        with LocalSubtractMethods\n",
    "        with LocalMultiplyMethods\n",
    "        with LocalDivideMethods\n",
    "}\n",
    "\n",
    "def foo: Tile2 = {\n",
    "    import LocalOperations._\n",
    "\n",
    "    val tile1: Tile2 = ???\n",
    "    val tile2: Tile2 = ???\n",
    "\n",
    "   (tile1 - tile2) /  (tile1 + tile2)\n",
    "}\n",
    "\n",
    "Unit"
   ]
  },
  {
   "cell_type": "markdown",
   "metadata": {},
   "source": [
    "This is the `MethodExtensions` pattern. Very simple, but very effective for code organization if combined with some other general rules of thumb.\n",
    "\n",
    "We use this in our actual Local Operations, as can be seen here:\n",
    "- The functionality in [raster/src/main/scala/geotrellis/raster/mapalgebra/local/Add.scala](https://github.com/locationtech/geotrellis/blob/a00c35b928e96083188d91734252d66574e3b4a7/raster/src/main/scala/geotrellis/raster/mapalgebra/local/Add.scala)...\n",
    "- is combined with other local map algebra operations in [raster/src/main/scala/geotrellis/raster/mapalgebra/local/LocalMethods.scala](https://github.com/locationtech/geotrellis/blob/a00c35b928e96083188d91734252d66574e3b4a7/raster/src/main/scala/geotrellis/raster/mapalgebra/local/LocalMethods.scala#L24)...\n",
    "- which gets exposed through this implicit in [raster/src/main/scala/geotrellis/raster/package.scala](https://github.com/locationtech/geotrellis/blob/a00c35b928e96083188d91734252d66574e3b4a7/raster/src/main/scala/geotrellis/raster/package.scala#L53-L78):\n",
    "\n",
    "```scala\n",
    "package object raster {\n",
    "  // ...\n",
    "  \n",
    "  implicit class withTileMethods(val self: Tile) extends MethodExtensions[Tile]\n",
    "      with DelayedConversionTileMethods\n",
    "      with costdistance.CostDistanceMethods\n",
    "      with crop.SinglebandTileCropMethods\n",
    "      with equalization.SinglebandEqualizationMethods\n",
    "      with hydrology.HydrologyMethods\n",
    "      with mapalgebra.focal.FocalMethods\n",
    "      with mapalgebra.focal.hillshade.HillshadeMethods\n",
    "      with mapalgebra.local.LocalMethods\n",
    "      with mapalgebra.zonal.ZonalMethods\n",
    "      with mask.SinglebandTileMaskMethods\n",
    "      with matching.SinglebandMatchingMethods\n",
    "      with merge.SinglebandTileMergeMethods\n",
    "      with prototype.SinglebandTilePrototypeMethods\n",
    "      with regiongroup.RegionGroupMethods\n",
    "      with render.ColorMethods\n",
    "      with render.JpgRenderMethods\n",
    "      with render.PngRenderMethods\n",
    "      with reproject.SinglebandTileReprojectMethods\n",
    "      with resample.SinglebandTileResampleMethods\n",
    "      with sigmoidal.SinglebandSigmoidalMethods\n",
    "      with split.SinglebandTileSplitMethods\n",
    "      with summary.polygonal.PolygonalSummaryMethods\n",
    "      with summary.SinglebandTileSummaryMethods\n",
    "      with vectorize.VectorizeMethods\n",
    "      with viewshed.ViewshedMethods\n",
    "      \n",
    "    // ...\n",
    "}\n",
    "```\n",
    "\n",
    "`Tile` is a very core type, and has a ton of functionality built on top of it. \n",
    "A more general pattern that is the current way to add any functionality can be found elsewhere. \n",
    "The `geotrellis-spark` subpackage gives good examples of this:\n",
    "\n",
    "- The functionality defined in [spark/src/main/scala/geotrellis/spark/mask/Mask.scala](https://github.com/locationtech/geotrellis/blob/v1.0.0/spark/src/main/scala/geotrellis/spark/mask/Mask.scala)...\n",
    "- Is exposed as extension methods in [spark/src/main/scala/geotrellis/spark/mask/TileRDDMaskMethods.scala](https://github.com/locationtech/geotrellis/blob/v1.0.0/spark/src/main/scala/geotrellis/spark/mask/TileRDDMaskMethods.scala)...\n",
    "- Which is implemented by the implicit class in [spark/src/main/scala/geotrellis/spark/mask/Implicits.scala](https://github.com/locationtech/geotrellis/blob/v1.0.0/spark/src/main/scala/geotrellis/spark/mask/Implicits.scala)\n",
    "- Which can be imported via `import geotrellis.spark.mask.Implicits._`, or simply by `geotrellis.spark._`, because the main package object extends the `Implicits` trait as seen in [spark/src/main/scala/geotrellis/spark/package.scala](https://github.com/locationtech/geotrellis/blob/v1.0.0/spark/src/main/scala/geotrellis/spark/package.scala#L51) "
   ]
  },
  {
   "cell_type": "markdown",
   "metadata": {},
   "source": [
    "### How to deal with options, a.k.a Mixing  overloads and default parameters in Scala\n",
    "\n",
    "### The problem\n",
    "\n",
    "There are some situations that arise where you want default arguments in object `apply` methods, but you also want to overload the `apply`. For instance, in GeoTrellis, we have an `S3LayerWriter` which allows you to write an RDD of rasters out of Amazon's S3 storage backend. In order to operate, it needs an AttributeStore, which is the type responsible for reading and writing metadata. A simplified (not real) signature of the attribute store looks like\n",
    "\n",
    "```scala\n",
    "case class AttributeStore(bucket: String, prefix: String)\n",
    "```\n",
    "\n",
    "An `S3LayerWriter` also takes some options, like whether or not to clobber an existing layer with that id, or if the key index will be one to one with the elements of the RDD. A simplified version of an `S3LayerWriter` might be:\n",
    "\n",
    "```scala\n",
    "class S3LayerWriter(attributeStore: AttributeStore, clobber: Boolean, oneToOne: Boolean) {\n",
    "  def write(): Unit = println(s\"S3LayerWriter $attributeStore $clobber $oneToOne\")\n",
    "}\n",
    "```\n",
    "\n",
    "And the companion object's apply method might look like this:\n",
    "\n",
    "```scala\n",
    "object S3LayerWriter {\n",
    "  def apply(attributeStore: AttributeStore, clobber: Boolean, oneToOne: Boolean): S3LayerWriter =\n",
    "    new S3LayerWriter(attributeStore, clobber, oneToOne)\n",
    "}\n",
    "```\n",
    "\n",
    "However, there's some sane defaults to `clobber` and `oneToOne`, so let's put those in:\n",
    "\n",
    "```scala\n",
    "object S3LayerWriter {\n",
    "  def apply(\n",
    "    attributeStore: AttributeStore, \n",
    "    clobber: Boolean = true, \n",
    "    oneToOne: Boolean = false\n",
    "  ): S3LayerWriter =\n",
    "    new S3LayerWriter(attributeStore, clobber, oneToOne)\n",
    "}\n",
    "```\n",
    "\n",
    "In developing the API, you may find it useful to have the `S3LayerWriter` construct the attribute store itself, just passing in the `bucket` and `prefix` parameters. To do that, you might want to overload `apply` like this:\n",
    "\n",
    "```scala\n",
    "object S3LayerWriter {\n",
    "  def apply(\n",
    "    attributeStore: AttributeStore, \n",
    "    clobber: Boolean = true, \n",
    "    oneToOne: Boolean = false\n",
    "  ): S3LayerWriter =\n",
    "    new S3LayerWriter(attributeStore, clobber, oneToOne)\n",
    "\n",
    "  def apply(\n",
    "    bucket: String, \n",
    "    prefix: String, \n",
    "    clobber: Boolean = true, \n",
    "    oneToOne: Boolean = false\n",
    "  ): S3LayerWriter =\n",
    "    apply(AttributeStore(bucket, prefix), clobber, oneToOne)\n",
    "}\n",
    "```\n",
    "\n",
    "Seems like a simple enough solution. However, this is not allowed.\n",
    "\n",
    "### Overloads and Default Parameters\n",
    "\n",
    "Your compiler might say that the above code is ok. I have had similar code compile, that is until I try to package the code into a JAR, at which point you'll get the compiler message\n",
    "\n",
    "```console\n",
    "Multiple overloaded alternatives of method define default arguments\n",
    "```\n",
    "\n",
    "It turns out [you just can't do it](http://stackoverflow.com/questions/4652095/why-does-the-scala-compiler-disallow-overloaded-methods-with-default-arguments). It's baked into the language that you can't have overloaded methods that specify default arguments.\n",
    "\n",
    "### What to do?\n",
    "\n",
    "You could code _a lot_ of overloads:\n",
    "\n",
    "```scala\n",
    "object S3LayerWriter {\n",
    "  def apply(attributeStore: AttributeStore, clobber: Boolean, oneToOne: Boolean): S3LayerWriter =\n",
    "    new S3LayerWriter(attributeStore, clobber, oneToOne)\n",
    "\n",
    "  def apply(attributeStore: AttributeStore, clobber: Boolean): S3LayerWriter =\n",
    "    apply(attributeStore, true, false)\n",
    "\n",
    "  def apply(attributeStore: AttributeStore): S3LayerWriter =\n",
    "    apply(attributeStore, true)\n",
    "\n",
    "  def apply(bucket: String, prefix: String, clobber: Boolean, oneToOne: Boolean): S3LayerWriter =\n",
    "    apply(AttributeStore(bucket, prefix), clobber, oneToOne)\n",
    "\n",
    "  def apply(bucket: String, prefix: String, clobber: Boolean): S3LayerWriter =\n",
    "    apply(AttributeStore(bucket, prefix), clobber, false)\n",
    "\n",
    "  def apply(bucket: String, prefix: String): S3LayerWriter =\n",
    "    apply(AttributeStore(bucket, prefix), true, false)\n",
    "}\n",
    "```\n",
    "\n",
    "We exploded out to 6 methods, and this doesn't even cover all the permutations of possible parameters.\n",
    "\n",
    "We could create an Options class, with a default:\n",
    "\n",
    "```scala\n",
    "object S3LayerWriter {\n",
    "  case class Options(clobber: Boolean = true, oneToOne: Boolean = false)\n",
    "  object Options {\n",
    "    def DEFAULT = Options()\n",
    "  }\n",
    "\n",
    "  def apply(attributeStore: AttributeStore, options: Options): S3LayerWriter =\n",
    "    new S3LayerWriter(attributeStore, clobber, oneToOne)\n",
    "\n",
    "  def apply(attributeStore: AttributeStore): S3LayerWriter =\n",
    "    apply(attributeStore, Options.DEFAULT)\n",
    "\n",
    "  def apply(bucket: String, prefix: String, options: Options): S3LayerWriter =\n",
    "    apply(AttributeStore(bucket, prefix), options)\n",
    "\n",
    "  def apply(bucket: String, prefix: String, clobber: Boolean): S3LayerWriter =\n",
    "    apply(bucket, prefix, Options.DEFAULT)\n",
    "}\n",
    "```\n",
    "\n",
    "And that is what GeoTrellis does to solve that problem, as can be seen in [spark/src/main/scala/geotrellis/spark/mask/Mask.scala](https://github.com/locationtech/geotrellis/blob/v1.0.0/spark/src/main/scala/geotrellis/spark/mask/Mask.scala#L39-L47)"
   ]
  },
  {
   "cell_type": "markdown",
   "metadata": {},
   "source": [
    "# Type constraints\n",
    "\n",
    "The patterns of __Type Classes__ and usage of __Context Bounds__ allow for the development of generic functionality that requires specific capabilities from it's generic types without requiring those generic types to be part of the same type hierarchy.\n"
   ]
  },
  {
   "cell_type": "markdown",
   "metadata": {
    "collapsed": true
   },
   "source": [
    "### Context Bounds refresher\n",
    "\n",
    "Context bounds use syntatic sugar to make requiring type classes on type parameters look nice.\n",
    "For instance, if we want to have a sort function with a type parameter `T` that requires an `Ordering`, we can pass it in as an implicit parameter:"
   ]
  },
  {
   "cell_type": "code",
   "execution_count": 32,
   "metadata": {
    "collapsed": false
   },
   "outputs": [],
   "source": [
    "def sort[T](x: Seq[T])(implicit ord: Ordering[T]): Seq[T] =\n",
    "    x.sorted"
   ]
  },
  {
   "cell_type": "markdown",
   "metadata": {},
   "source": [
    "This version takes the type class as a _Context Bound_, which is stated in the type parameters."
   ]
  },
  {
   "cell_type": "code",
   "execution_count": 34,
   "metadata": {
    "collapsed": true
   },
   "outputs": [],
   "source": [
    "def sort2[T: Ordering](x: Seq[T]): Seq[T] =\n",
    "    x.sorted"
   ]
  },
  {
   "cell_type": "markdown",
   "metadata": {},
   "source": [
    "These two methods compile down to pretty much the exact same thing."
   ]
  },
  {
   "cell_type": "code",
   "execution_count": 35,
   "metadata": {
    "collapsed": false
   },
   "outputs": [
    {
     "data": {
      "text/plain": [
       "List(Foo(1), Foo(1), Foo(2), Foo(2), Foo(3), Foo(3))"
      ]
     },
     "execution_count": 35,
     "metadata": {},
     "output_type": "execute_result"
    }
   ],
   "source": [
    "case class Foo(x: Int)\n",
    "\n",
    "implicit def ord: Ordering[Foo] = Ordering.by(_.x)\n",
    "\n",
    "val foos = List(3, 1, 2).map(Foo.apply)\n",
    "sort2(sort(foos) ++ foos)"
   ]
  },
  {
   "cell_type": "markdown",
   "metadata": {},
   "source": [
    "The usage of Context Bounds can clean up code. For instance, take a look at this method from \n",
    "[spark/src/main/scala/geotrellis/spark/io/LayerReader.scala](https://github.com/locationtech/geotrellis/blob/v1.0.0/spark/src/main/scala/geotrellis/spark/io/LayerReader.scala):\n",
    "\n",
    "```scala\n",
    "trait LayerReader[ID] {\n",
    "    // ...\n",
    "    \n",
    "    def read[\n",
    "        K: AvroRecordCodec: Boundable: JsonFormat: ClassTag,\n",
    "        V: AvroRecordCodec: ClassTag,\n",
    "        M: JsonFormat: GetComponent[?, Bounds[K]]\n",
    "      ](id: ID, numPartitions: Int): RDD[(K, V)] with Metadata[M]\n",
    "      \n",
    "    // ...\n",
    "}\n",
    "```\n",
    "\n",
    "If we were to write this out without context bounds, it would look something like this:\n",
    "```scala\n",
    "trait LayerReader[ID] {\n",
    "    // ...\n",
    "    \n",
    "    def read[K, V, M](id: ID, numPartitions: Int)(\n",
    "      implicit ev1: AvroRecordCodec[K], ev2: Boundable[K], ev3: JsFormat[K], ev4: ClassTag[K],\n",
    "      ev5: AvroRecordCodec[V], ev6: ClassTag[V],\n",
    "      ev7: JsonFormat[M], ev8: GetComponent[M, Bounds[K]]\n",
    "    ): RDD[(K, V)] with Metadata[M]\n",
    "      \n",
    "    // ...\n",
    "}\n",
    "```\n",
    "\n",
    "To me, the Context Bound method is much more readable.\n",
    "\n",
    "### Type Lambdas and Kind Projector\n",
    "\n",
    "You may notice a strange `GetComponent[?, Bounds[K]]` in the above example of a method with Context bounds.\n",
    "This code is actually not valid scala code, and requires the [Kind Projector](https://github.com/non/kind-projector)\n",
    "compiler plugin to compile. There is a way to write this without the compiler, and we'll see what that \n",
    "looks like. First, look at what a `GetComponent` is.\n",
    "\n",
    "[util/src/main/scala/geotrellis/util/GetComponent.scala](https://github.com/locationtech/geotrellis/blob/v1.0.0/util/src/main/scala/geotrellis/util/GetComponent.scala)\n",
    "```scala\n",
    "trait GetComponent[T, C] extends Serializable {\n",
    "  def get: T => C\n",
    "}\n",
    "\n",
    "object GetComponent {\n",
    "  def apply[T, C](_get: T => C): GetComponent[T, C] =\n",
    "    new GetComponent[T, C] {\n",
    "      val get = _get\n",
    "    }\n",
    "}\n",
    "```\n",
    "A `GetComponent` allows us to define a type class that acts as a partial `Lens`, which is a well known pattern that is implemented for Scala by libraries like [Monocle](https://julien-truffaut.github.io/Monocle/). It allows us to get some value of type `C` out of a type `T`.\n",
    "\n",
    "We can use the `GetComponent` as a type class to require that a generic type has to be able to provide some other type. In the instance above, we are guaranteeing that the metadata can produce some `Bounds[K]`. A simplified version of a function that might act like our example is as follows:"
   ]
  },
  {
   "cell_type": "code",
   "execution_count": 36,
   "metadata": {
    "collapsed": false
   },
   "outputs": [],
   "source": [
    "import geotrellis.util.GetComponent\n",
    "import geotrellis.spark.Bounds\n",
    "\n",
    "def foo[M, K](metadata: M)(implicit gc: GetComponent[M, Bounds[K]]): Bounds[K] = \n",
    "    gc.get(metadata)"
   ]
  },
  {
   "cell_type": "markdown",
   "metadata": {},
   "source": [
    "The problem with using `GetComponent` as a Context Bounds is that a context bound must only have one type parameter, or one \"hole\" that is filled with the type it is bounding. `GetComponent` has two type parameters. However we really only want to use one of the parameters: the first one. One way you accomplish this is to create a type alias; however since `K` is also used in the `Bounds[K]` that would be required for the type alias, this will not work.\n",
    "\n",
    "The solution comes with __type lambdas__. Type lambdas allow you to create anonymous structural types.\n",
    "And without kind projector, the solution looks like this:"
   ]
  },
  {
   "cell_type": "code",
   "execution_count": 37,
   "metadata": {
    "collapsed": false
   },
   "outputs": [],
   "source": [
    "def foo[M: ({ type B[X] = GetComponent[X, Bounds[K]] })#B, K](metadata: M): Bounds[K] = \n",
    "    implicitly[GetComponent[M, Bounds[K]]].get(metadata)"
   ]
  },
  {
   "cell_type": "markdown",
   "metadata": {},
   "source": [
    "This is quite atrocious looking. Luckily, Kind Projector comes to the rescue. \n",
    "It provides a way to state type lambdas in a way that resembles the use of the underscore \n",
    "in anonymous function, like `(_ + 1)`. Instead of an underscore, it uses a question mark:\n",
    "\n",
    "```scala\n",
    "def foo[M: GetComponent[?, Bounds[K]], K](metadata: M): Bounds[K] = \n",
    "    implicitly[GetComponent[M, Bounds[K]]].get(metadata)\n",
    "```\n",
    "\n",
    "(This will not compile in Toree, as it doesn't compile us Kind Projector)"
   ]
  },
  {
   "cell_type": "markdown",
   "metadata": {},
   "source": [
    "### Guiding Principle: Never ask for more than you need\n",
    "\n",
    "#### or, \"Don't over-concretize\" - Michael Pilquist\n",
    "\n",
    "The usage of typeclasses and context bounds has mechanisms that can be understood and utilized. \n",
    "But the utility of these tools are restricted by the purpose behind how they are used.\n",
    "\n",
    "A guiding principle that I try to stick to, and which is enabled by the use of type classes and context bounds, is the principle to never ask more of the generic types then you actually need. To take a look at our IO example again:\n",
    "\n",
    "```scala\n",
    "trait LayerReader[ID] {\n",
    "    // ...\n",
    "    \n",
    "    def read[\n",
    "        K: AvroRecordCodec: Boundable: JsonFormat: ClassTag,\n",
    "        V: AvroRecordCodec: ClassTag,\n",
    "        M: JsonFormat: GetComponent[?, Bounds[K]]\n",
    "      ](id: ID, numPartitions: Int): RDD[(K, V)] with Metadata[M]\n",
    "      \n",
    "    // ...\n",
    "}\n",
    "```\n",
    "\n",
    "It seems like we are asking a lot here. But we are in fact asking the bare minimum of our types that enable us to do the thing the client code is asking us to do. Every type class is required, and no overt restrictions are put onto the types. This turns into wins down the road when you want to use the functionality you are writing against types that you did not consider at the time you wrote the code. For instance, we were able to save RDDs of vector tiles and point clouds to all of our supported backends quite easily because the layer IO was architected in a way that required only certain typeclasses to be created and provided in the implicit scope."
   ]
  },
  {
   "cell_type": "markdown",
   "metadata": {},
   "source": [
    "### Bringing it all together: Method Extensions and Context Bounds"
   ]
  },
  {
   "cell_type": "markdown",
   "metadata": {
    "collapsed": true
   },
   "source": [
    "![metaism comment](http://i.imgur.com/lDcKvYv.png)"
   ]
  },
  {
   "cell_type": "markdown",
   "metadata": {},
   "source": [
    "We can use type lambdas on context bounds to require that our types have method extensions which give it certain capabilities.\n",
    "\n",
    "For instance, in [spark/src/main/scala/geotrellis/spark/split/Split.scala](https://github.com/locationtech/geotrellis/blob/v1.0.0/spark/src/main/scala/geotrellis/spark/split/Split.scala):\n",
    "\n",
    "```scala\n",
    "object Split {\n",
    "  /** Splits an RDD of tiles into tiles of size (tileCols x tileRows), and updates the ProjectedExtent component of the keys.\n",
    "    */\n",
    "  def apply[K: Component[?, ProjectedExtent], V <: CellGrid: (? => SplitMethods[V])](\n",
    "      rdd: RDD[(K, V)], tileCols: Int, tileRows: Int\n",
    "  ): RDD[(K, V)] =\n",
    "    rdd\n",
    "      .flatMap { case (key, tile) =>\n",
    "        val splitLayout =\n",
    "          TileLayout(\n",
    "            math.ceil(tile.cols / tileCols.toDouble).toInt,\n",
    "            math.ceil(tile.rows / tileRows.toDouble).toInt,\n",
    "            tileCols,\n",
    "            tileRows\n",
    "          )\n",
    "\n",
    "        if(!splitLayout.isTiled) {\n",
    "          Array((key, tile))\n",
    "        } else {\n",
    "          val ProjectedExtent(extent, crs) = key.getComponent[ProjectedExtent]\n",
    "          Raster(tile, extent).split(splitLayout, Options(extend = false, cropped = false))\n",
    "            .map { raster => (key.setComponent(ProjectedExtent(raster.extent, crs)), raster.tile) }\n",
    "        }\n",
    "      }\n",
    "}\n",
    "```\n",
    "\n",
    "The `(? => SplitMethods[V])` type lambda context bound means that given the `V`, we will have an implicit conversion from `V` to `SplitMethods[V]`. We are able to then call `split` on `Raster[V]`, since the split on a `Raster[T]` is defined for any `T` that has split methods, as seen in [raster/src/main/scala/geotrellis/raster/split/RasterSplitMethods.scala](https://github.com/locationtech/geotrellis/blob/v1.0.0/raster/src/main/scala/geotrellis/raster/split/RasterSplitMethods.scala):\n",
    "\n",
    "```scala\n",
    "abstract class RasterSplitMethods[T <: CellGrid: (? => SplitMethods[T])] extends SplitMethods[Raster[T]] {\n",
    "  def split(tileLayout: TileLayout, options: Options): Array[Raster[T]] =\n",
    "    self.rasterExtent.split(tileLayout, options)\n",
    "      .zip(self.tile.split(tileLayout, options))\n",
    "      .map { case (re, tile) => Raster(tile, re.extent) }\n",
    "}\n",
    "```\n",
    "\n",
    "Notice that you must us an `abstract class` instead of a `trait` if context bounds are required.\n",
    "\n",
    "Because we wrote the functionality not on any concrete class, but for anything which you could create a `SplitMethods` with, we were able to give our users the flexibility to use our functionality by creating only the requisite type classes and MethodExtensions."
   ]
  },
  {
   "cell_type": "code",
   "execution_count": null,
   "metadata": {
    "collapsed": true
   },
   "outputs": [],
   "source": []
  }
 ],
 "metadata": {
  "kernelspec": {
   "display_name": "Apache Toree - Scala",
   "language": "scala",
   "name": "apache_toree_scala"
  },
  "language_info": {
   "file_extension": ".scala",
   "name": "scala",
   "version": "2.11.8"
  }
 },
 "nbformat": 4,
 "nbformat_minor": 2
}
